{
 "cells": [
  {
   "cell_type": "markdown",
   "metadata": {},
   "source": [
    "# Collaboration and Competition\n",
    "\n",
    "---\n",
    "\n",
    "You are welcome to use this coding environment to train your agent for the project.  Follow the instructions below to get started!\n",
    "\n",
    "### 1. Start the Environment\n",
    "\n",
    "Run the next code cell to install a few packages.  This line will take a few minutes to run!"
   ]
  },
  {
   "cell_type": "code",
   "execution_count": 1,
   "metadata": {},
   "outputs": [
    {
     "name": "stdout",
     "output_type": "stream",
     "text": [
      "\u001b[31mtensorflow 1.7.1 has requirement numpy>=1.13.3, but you'll have numpy 1.12.1 which is incompatible.\u001b[0m\r\n",
      "\u001b[31mipython 6.5.0 has requirement prompt-toolkit<2.0.0,>=1.0.15, but you'll have prompt-toolkit 3.0.5 which is incompatible.\u001b[0m\r\n"
     ]
    }
   ],
   "source": [
    "!pip -q install ./python"
   ]
  },
  {
   "cell_type": "markdown",
   "metadata": {},
   "source": [
    "The environment is already saved in the Workspace and can be accessed at the file path provided below. "
   ]
  },
  {
   "cell_type": "code",
   "execution_count": 2,
   "metadata": {},
   "outputs": [
    {
     "name": "stderr",
     "output_type": "stream",
     "text": [
      "INFO:unityagents:\n",
      "'Academy' started successfully!\n",
      "Unity Academy name: Academy\n",
      "        Number of Brains: 1\n",
      "        Number of External Brains : 1\n",
      "        Lesson number : 0\n",
      "        Reset Parameters :\n",
      "\t\t\n",
      "Unity brain name: TennisBrain\n",
      "        Number of Visual Observations (per agent): 0\n",
      "        Vector Observation space type: continuous\n",
      "        Vector Observation space size (per agent): 8\n",
      "        Number of stacked Vector Observation: 3\n",
      "        Vector Action space type: continuous\n",
      "        Vector Action space size (per agent): 2\n",
      "        Vector Action descriptions: , \n"
     ]
    }
   ],
   "source": [
    "from unityagents import UnityEnvironment\n",
    "import numpy as np\n",
    "\n",
    "env = UnityEnvironment(file_name=\"/data/Tennis_Linux_NoVis/Tennis\")"
   ]
  },
  {
   "cell_type": "markdown",
   "metadata": {},
   "source": [
    "Environments contain **_brains_** which are responsible for deciding the actions of their associated agents. Here we check for the first brain available, and set it as the default brain we will be controlling from Python."
   ]
  },
  {
   "cell_type": "code",
   "execution_count": 3,
   "metadata": {},
   "outputs": [
    {
     "data": {
      "text/plain": [
       "['TennisBrain']"
      ]
     },
     "execution_count": 3,
     "metadata": {},
     "output_type": "execute_result"
    }
   ],
   "source": [
    "# get the default brain\n",
    "brain_name = env.brain_names[0]\n",
    "brain = env.brains[brain_name]\n",
    "env.brain_names"
   ]
  },
  {
   "cell_type": "markdown",
   "metadata": {},
   "source": [
    "### 2. Examine the State and Action Spaces\n",
    "\n",
    "Run the code cell below to print some information about the environment."
   ]
  },
  {
   "cell_type": "code",
   "execution_count": 4,
   "metadata": {},
   "outputs": [
    {
     "name": "stdout",
     "output_type": "stream",
     "text": [
      "Number of agents: 2\n",
      "Size of each action: 2\n",
      "There are 2 agents. Each observes a state with length: 24\n",
      "The state for the first agent looks like: [ 0.          0.          0.          0.          0.          0.          0.\n",
      "  0.          0.          0.          0.          0.          0.          0.\n",
      "  0.          0.         -6.65278625 -1.5        -0.          0.\n",
      "  6.83172083  6.         -0.          0.        ]\n"
     ]
    }
   ],
   "source": [
    "# reset the environment\n",
    "env_info = env.reset(train_mode=True)[brain_name]\n",
    "\n",
    "# number of agents \n",
    "num_agents = len(env_info.agents)\n",
    "print('Number of agents:', num_agents)\n",
    "\n",
    "# size of each action\n",
    "action_size = brain.vector_action_space_size\n",
    "print('Size of each action:', action_size)\n",
    "\n",
    "# examine the state space \n",
    "states = env_info.vector_observations\n",
    "state_size = states.shape[1]\n",
    "print('There are {} agents. Each observes a state with length: {}'.format(states.shape[0], state_size))\n",
    "print('The state for the first agent looks like:', states[0])"
   ]
  },
  {
   "cell_type": "markdown",
   "metadata": {},
   "source": [
    "### 3. Take Random Actions in the Environment\n",
    "\n",
    "In the next code cell, you will learn how to use the Python API to control the agent and receive feedback from the environment.\n",
    "\n",
    "Note that **in this coding environment, you will not be able to watch the agents while they are training**, and you should set `train_mode=True` to restart the environment."
   ]
  },
  {
   "cell_type": "code",
   "execution_count": 5,
   "metadata": {},
   "outputs": [
    {
     "name": "stdout",
     "output_type": "stream",
     "text": [
      "Total score (averaged over agents) this episode: -0.004999999888241291\n",
      "Total score (averaged over agents) this episode: -0.004999999888241291\n",
      "Total score (averaged over agents) this episode: -0.004999999888241291\n",
      "Total score (averaged over agents) this episode: -0.004999999888241291\n",
      "Total score (averaged over agents) this episode: -0.004999999888241291\n"
     ]
    }
   ],
   "source": [
    "for i in range(5):                                         # play game for 5 episodes\n",
    "    env_info = env.reset(train_mode=False)[brain_name]     # reset the environment    \n",
    "    states = env_info.vector_observations                  # get the current state (for each agent)\n",
    "    scores = np.zeros(num_agents)                          # initialize the score (for each agent)\n",
    "    while True:\n",
    "        actions = np.random.randn(num_agents, action_size) # select an action (for each agent)\n",
    "        actions = np.clip(actions, -1, 1)                  # all actions between -1 and 1\n",
    "        env_info = env.step(actions)[brain_name]           # send all actions to tne environment\n",
    "        next_states = env_info.vector_observations         # get next state (for each agent)\n",
    "        rewards = env_info.rewards                         # get reward (for each agent)\n",
    "        dones = env_info.local_done                        # see if episode finished\n",
    "        scores += env_info.rewards                         # update the score (for each agent)\n",
    "        states = next_states                               # roll over states to next time step\n",
    "        if np.any(dones):                                  # exit loop if episode finished\n",
    "            break\n",
    "    print('Total score (averaged over agents) this episode: {}'.format(np.mean(scores)))"
   ]
  },
  {
   "cell_type": "markdown",
   "metadata": {},
   "source": [
    "When finished, you can close the environment."
   ]
  },
  {
   "cell_type": "code",
   "execution_count": 6,
   "metadata": {},
   "outputs": [],
   "source": [
    "#env.close()"
   ]
  },
  {
   "cell_type": "markdown",
   "metadata": {},
   "source": [
    "### 4. It's Your Turn!\n",
    "\n",
    "Now it's your turn to train your own agent to solve the environment!  A few **important notes**:\n",
    "- When training the environment, set `train_mode=True`, so that the line for resetting the environment looks like the following:\n",
    "```python\n",
    "env_info = env.reset(train_mode=True)[brain_name]\n",
    "```\n",
    "- To structure your work, you're welcome to work directly in this Jupyter notebook, or you might like to start over with a new file!  You can see the list of files in the workspace by clicking on **_Jupyter_** in the top left corner of the notebook.\n",
    "- In this coding environment, you will not be able to watch the agents while they are training.  However, **_after training the agents_**, you can download the saved model weights to watch the agents on your own machine! "
   ]
  },
  {
   "cell_type": "code",
   "execution_count": 6,
   "metadata": {},
   "outputs": [],
   "source": [
    "from collections import deque\n",
    "import random\n",
    "import torch\n",
    "import numpy as np\n",
    "import matplotlib.pyplot as plt\n",
    "%matplotlib inline"
   ]
  },
  {
   "cell_type": "code",
   "execution_count": 7,
   "metadata": {},
   "outputs": [],
   "source": [
    "import pandas as pd\n",
    "import datetime \n",
    "import time"
   ]
  },
  {
   "cell_type": "markdown",
   "metadata": {},
   "source": [
    "# Model"
   ]
  },
  {
   "cell_type": "code",
   "execution_count": 8,
   "metadata": {},
   "outputs": [],
   "source": [
    "import numpy as np\n",
    "\n",
    "import torch\n",
    "import torch.nn as nn\n",
    "import torch.nn.functional as F\n",
    "\n",
    "def hidden_init(layer):\n",
    "    fan_in = layer.weight.data.size()[0]\n",
    "    lim = 1. / np.sqrt(fan_in)\n",
    "    return (-lim, lim)\n",
    "\n",
    "\n",
    "class Actor(nn.Module):\n",
    "    \"\"\"Actor (Policy) Model.\"\"\"\n",
    "\n",
    "    def __init__(self, state_size, action_size, seed, fc1_units=256, fc2_units=128):\n",
    "        \"\"\"Initialize parameters and build model.\n",
    "        Params\n",
    "        ======\n",
    "            state_size (int): Dimension of each state\n",
    "            action_size (int): Dimension of each action\n",
    "            seed (int): Random seed\n",
    "            fc1_units (int): Number of nodes in first hidden layer\n",
    "            fc2_units (int): Number of nodes in second hidden layer\n",
    "        \"\"\"\n",
    "        super(Actor, self).__init__()\n",
    "        self.seed = torch.manual_seed(seed)\n",
    "        self.fc1 = nn.Linear(state_size, fc1_units)\n",
    "        self.fc2 = nn.Linear(fc1_units, fc2_units)\n",
    "        self.fc3 = nn.Linear(fc2_units, action_size)\n",
    "        self.bn1 = nn.BatchNorm1d(fc1_units)\n",
    "        self.bn2 = nn.BatchNorm1d(fc2_units)\n",
    "        self.reset_parameters()\n",
    "\n",
    "    def reset_parameters(self):\n",
    "        self.fc1.weight.data.uniform_(*hidden_init(self.fc1))\n",
    "        self.fc2.weight.data.uniform_(*hidden_init(self.fc2))\n",
    "        self.fc3.weight.data.uniform_(-3e-3, 3e-3)\n",
    "\n",
    "    def forward(self, state):\n",
    "        \"\"\"Build an actor (policy) network that maps states -> actions.\"\"\"\n",
    "        if state.dim() == 1:\n",
    "            # if dim of state is 1, it cannot execute batch normalization\n",
    "            state = torch.unsqueeze(state, 0)\n",
    "        x = F.leaky_relu(self.fc1(state))\n",
    "        x = self.bn1(x)\n",
    "        x = F.leaky_relu(self.fc2(x))\n",
    "        x = self.bn2(x)\n",
    "        return F.tanh(self.fc3(x))\n",
    "\n",
    "\n",
    "class Critic(nn.Module):\n",
    "    \"\"\"Critic (Value) Model.\"\"\"\n",
    "\n",
    "    def __init__(self, state_size, action_size, seed, fcs1_units=256, fc2_units=128):\n",
    "        \"\"\"Initialize parameters and build model.\n",
    "        Params\n",
    "        ======\n",
    "            state_size (int): Dimension of each state\n",
    "            action_size (int): Dimension of each action\n",
    "            seed (int): Random seed\n",
    "            fcs1_units (int): Number of nodes in the first hidden layer\n",
    "            fc2_units (int): Number of nodes in the second hidden layer\n",
    "        \"\"\"\n",
    "        super(Critic, self).__init__()\n",
    "        self.seed = torch.manual_seed(seed)\n",
    "        self.fcs1 = nn.Linear(state_size, fcs1_units)\n",
    "        self.fc2 = nn.Linear(fcs1_units + action_size, fc2_units)\n",
    "        self.fc3 = nn.Linear(fc2_units, 1)\n",
    "        self.bn = nn.BatchNorm1d(fcs1_units)\n",
    "        self.reset_parameters()\n",
    "\n",
    "    def reset_parameters(self):\n",
    "        self.fcs1.weight.data.uniform_(*hidden_init(self.fcs1))\n",
    "        self.fc2.weight.data.uniform_(*hidden_init(self.fc2))\n",
    "        self.fc3.weight.data.uniform_(-3e-3, 3e-3)\n",
    "\n",
    "    def forward(self, state, action):\n",
    "        \"\"\"Build a critic (value) network that maps (state, action) pairs -> Q-values.\"\"\"\n",
    "        if state.dim() == 1:\n",
    "            # if dim of state is 1, it cannot execute batch normalization\n",
    "            state = torch.unsqueeze(state, 0)\n",
    "        xs = F.leaky_relu(self.fcs1(state))\n",
    "        xs = self.bn(xs)\n",
    "        if state.dim() == 1:\n",
    "            action = torch.unsqueeze(action, 0)\n",
    "        x = torch.cat((xs, action), dim=1)\n",
    "        x = F.leaky_relu(self.fc2(x))\n",
    "        return self.fc3(x)\n"
   ]
  },
  {
   "cell_type": "markdown",
   "metadata": {},
   "source": [
    "# Agent"
   ]
  },
  {
   "cell_type": "code",
   "execution_count": 9,
   "metadata": {},
   "outputs": [],
   "source": [
    "import numpy as np\n",
    "import random\n",
    "import copy\n",
    "from collections import namedtuple, deque\n",
    "\n",
    "import torch\n",
    "import torch.nn.functional as F\n",
    "import torch.optim as optim\n",
    "\n",
    "\n",
    "class MADDPGAgent():\n",
    "    \"\"\"Interacts with and learns from the environment.\"\"\"\n",
    "    \n",
    "    def __init__(self, state_size, action_size, memory, device='cpu', params=None):\n",
    "        \"\"\"Initialize an Agent object.\n",
    "        \n",
    "        Params\n",
    "        ======\n",
    "            state_size (int): dimension of each state\n",
    "            action_size (int): dimension of each action\n",
    "            memory (obj): Memory buffer to sample\n",
    "            device (str): device string between cuda:0 and cpu\n",
    "            params (dict): hyper-parameters\n",
    "        \"\"\"\n",
    "        self.state_size = state_size\n",
    "        self.action_size = action_size\n",
    "        self.device = device\n",
    "        self.step_t = 0\n",
    "        self.update_every = params['update_every']\n",
    "\n",
    "        # Set parameters\n",
    "        self.gamma = params['gamma']\n",
    "        self.tau = params['tau']\n",
    "        self.seed = random.seed(params['seed'])\n",
    "\n",
    "        # Actor Network (w/ Target Network)\n",
    "        self.actor_local = Actor(state_size, action_size, params['seed'],\n",
    "                                 params['actor_units'][0], params['actor_units'][1]).to(device)\n",
    "        self.actor_target = Actor(state_size, action_size, params['seed'],\n",
    "                                  params['actor_units'][0], params['actor_units'][1]).to(device)\n",
    "        self.actor_optimizer = optim.Adam(self.actor_local.parameters(), lr=params['lr_actor'])\n",
    "\n",
    "        self.critic_local = Critic(state_size, action_size, params['seed'],\n",
    "                                              params['critic_units'][0], params['critic_units'][1]).to(device)\n",
    "        self.critic_target = Critic(state_size, action_size, params['seed'],\n",
    "                                               params['critic_units'][0], params['critic_units'][1]).to(device)\n",
    "        self.critic_optimizer = optim.Adam(self.critic_local.parameters(),\n",
    "                                                      lr=params['lr_critic'], weight_decay=params['weight_decay'])\n",
    "\n",
    "        # Noise process\n",
    "        self.noise = OUNoise(action_size, params['seed'], theta=params['noise_theta'], sigma=params['noise_sigma'])\n",
    "\n",
    "        # Replay memory\n",
    "        self.memory = memory\n",
    "\n",
    "\n",
    "    def step(self, state, action, reward, next_state, done):\n",
    "        \"\"\"Save experience in replay memory, and use random sample from buffer to learn.\"\"\"\n",
    "        # Save experience / reward\n",
    "        self.memory.add(state, action, reward, next_state, done)\n",
    "\n",
    "        self.step_t = (self.step_t + 1) % self.update_every\n",
    "\n",
    "        # Learn, if enough samples are available in memory\n",
    "        if self.step_t == 0 and len(self.memory) > self.memory.get_batch_size():\n",
    "            experiences = self.memory.sample()\n",
    "            self.learn(experiences, self.gamma)\n",
    "\n",
    "    def act(self, state, add_noise=True):\n",
    "        \"\"\"Returns actions for given state as per current policy.\"\"\"\n",
    "        state = torch.from_numpy(state).float().to(self.device)\n",
    "        self.actor_local.eval()\n",
    "        \n",
    "        with torch.no_grad():\n",
    "            action = self.actor_local(state).cpu().data.numpy()\n",
    "        self.actor_local.train()\n",
    "\n",
    "        if add_noise:\n",
    "            action += self.noise.sample()\n",
    "        return np.clip(action, -1, 1)\n",
    "\n",
    "    def reset(self):\n",
    "        self.noise.reset()\n",
    "\n",
    "    def learn(self, experiences, gamma):\n",
    "        \"\"\"Update policy and value parameters using given batch of experience tuples.\n",
    "        Q_targets = r + γ * critic_target(next_state, actor_target(next_state))\n",
    "        where:\n",
    "            actor_target(state) -> action\n",
    "            critic_target(state, action) -> Q-value\n",
    "        Params\n",
    "        ======\n",
    "            experiences (Tuple[torch.Tensor]): tuple of (s, a, r, s', done) tuples \n",
    "            gamma (float): discount factor\n",
    "        \"\"\"\n",
    "        states, actions, rewards, next_states, dones = experiences\n",
    "\n",
    "        # ---------------------------- update critic ---------------------------- #\n",
    "        # Get predicted next-state actions and Q values from target models\n",
    "        actions_next = self.actor_target(next_states)\n",
    "        Q_targets_next = self.critic_target(next_states, actions_next)\n",
    "\n",
    "        # Compute Q targets for current states (y_i)\n",
    "        Q_targets = rewards + (gamma * Q_targets_next * (1 - dones))\n",
    "        \n",
    "        # Compute critic loss\n",
    "        Q_expected = self.critic_local(states, actions)\n",
    "        critic_loss = F.mse_loss(Q_expected, Q_targets)\n",
    "        \n",
    "        # Minimize the loss\n",
    "        self.critic_optimizer.zero_grad()\n",
    "        critic_loss.backward()\n",
    "        self.critic_optimizer.step()\n",
    "\n",
    "        # ---------------------------- update actor ---------------------------- #\n",
    "        # Compute actor loss\n",
    "        actions_pred = self.actor_local(states)\n",
    "        actor_loss = -self.critic_local(states, actions_pred).mean()\n",
    "        \n",
    "        # Minimize the loss\n",
    "        self.actor_optimizer.zero_grad()\n",
    "        actor_loss.backward()\n",
    "        self.actor_optimizer.step()\n",
    "\n",
    "        # ----------------------- update target networks ----------------------- #\n",
    "        self.soft_update(self.critic_local, self.critic_target, self.tau)\n",
    "        self.soft_update(self.actor_local, self.actor_target, self.tau)\n",
    "\n",
    "    @staticmethod\n",
    "    def soft_update(local_model, target_model, tau):\n",
    "        \"\"\"Soft update model parameters.\n",
    "        θ_target = τ*θ_local + (1 - τ)*θ_target\n",
    "        Params\n",
    "        ======\n",
    "            local_model: PyTorch model (weights will be copied from)\n",
    "            target_model: PyTorch model (weights will be copied to)\n",
    "            tau (float): interpolation parameter \n",
    "        \"\"\"\n",
    "        for target_param, local_param in zip(target_model.parameters(), local_model.parameters()):\n",
    "            target_param.data.copy_(tau * local_param.data + (1.0 - tau) * target_param.data)\n",
    "\n",
    "\n",
    "class OUNoise:\n",
    "    \"\"\"Ornstein-Uhlenbeck process.\"\"\"\n",
    "    def __init__(self, size, seed, mu=0., theta=0.15, sigma=0.2):\n",
    "        \"\"\"Initialize parameters and noise process.\"\"\"\n",
    "        self.mu = mu * np.ones(size)\n",
    "        self.theta = theta\n",
    "        self.sigma = sigma\n",
    "        self.seed = random.seed(seed)\n",
    "        self.reset()\n",
    "\n",
    "    def reset(self):\n",
    "        \"\"\"Reset the internal state (= noise) to mean (mu).\"\"\"\n",
    "        self.state = copy.copy(self.mu)\n",
    "\n",
    "    def sample(self):\n",
    "        \"\"\"Update internal state and return it as a noise sample.\"\"\"\n",
    "        x = self.state\n",
    "        dx = self.theta * (self.mu - x) + self.sigma * np.array([random.random() for i in range(len(x))])\n",
    "        self.state = x + dx\n",
    "        return self.state"
   ]
  },
  {
   "cell_type": "markdown",
   "metadata": {},
   "source": [
    "# memory"
   ]
  },
  {
   "cell_type": "code",
   "execution_count": 10,
   "metadata": {},
   "outputs": [],
   "source": [
    "class ReplayBuffer:\n",
    "    \"\"\"Fixed-size buffer to store experience tuples.\"\"\"\n",
    "\n",
    "    def __init__(self, action_size, buffer_size, batch_size, seed, device):\n",
    "        \"\"\"Initialize a ReplayBuffer object.\n",
    "        Params\n",
    "        ======\n",
    "            action_size (int): dimension of each action\n",
    "            buffer_size (int): maximum size of buffer\n",
    "            batch_size (int): size of each training batch\n",
    "            seed (int): random seed\n",
    "            device (str): cuda:0 for GPU or cpu\n",
    "        \"\"\"\n",
    "        self.action_size = action_size\n",
    "        self.memory = deque(maxlen=buffer_size)\n",
    "        self.batch_size = batch_size\n",
    "        self.experience = namedtuple(\"Experience\", field_names=[\"state\", \"action\", \"reward\", \"next_state\", \"done\"])\n",
    "        self.seed = random.seed(seed)\n",
    "        self.device = device\n",
    "\n",
    "    def add(self, state, action, reward, next_state, done):\n",
    "        \"\"\"Add a new experience to memory.\"\"\"\n",
    "        e = self.experience(state, action, reward, next_state, done)\n",
    "        self.memory.append(e)\n",
    "\n",
    "    def sample(self):\n",
    "        \"\"\"Randomly sample a batch of experiences from memory.\"\"\"\n",
    "        experiences = random.sample(self.memory, k=self.batch_size)\n",
    "        experiences = [e for e in experiences if e is not None]\n",
    "\n",
    "        states = torch.from_numpy(np.vstack([e.state for e in experiences])).float().to(self.device)\n",
    "        actions = torch.from_numpy(np.vstack([e.action for e in experiences])).float().to(self.device)\n",
    "        rewards = torch.from_numpy(np.vstack([e.reward for e in experiences])).float().to(self.device)\n",
    "        next_states = torch.from_numpy(np.vstack([e.next_state for e in experiences])).float().to(self.device)\n",
    "        dones = torch.from_numpy(np.vstack([e.done for e in experiences]).astype(np.uint8)).float().to(self.device)\n",
    "\n",
    "        return states, actions, rewards, next_states, dones\n",
    "\n",
    "    def get_batch_size(self):\n",
    "        return self.batch_size\n",
    "\n",
    "    def __len__(self):\n",
    "        \"\"\"Return the current size of internal memory.\"\"\"\n",
    "        return len(self.memory)"
   ]
  },
  {
   "cell_type": "markdown",
   "metadata": {},
   "source": [
    "# Main loop"
   ]
  },
  {
   "cell_type": "code",
   "execution_count": 17,
   "metadata": {},
   "outputs": [],
   "source": [
    "torch_device = torch.device(\"cuda:0\" if torch.cuda.is_available() else \"cpu\")\n",
    "\n",
    "\n",
    "params = {\n",
    "    'buffer_size': int(1e6),        # replay buffer size\n",
    "    'batch_size': 128,              # minibatch size\n",
    "    'seed': 0,                      # Seed to generate random numbers\n",
    "    'gamma': 0.99,                      # discount factor\n",
    "    'tau': 0.15,                        # for soft update of target parameters\n",
    "    'update_every': 1,                  # update parameters per this number\n",
    "    'lr_actor': 5e-4,                   # learning rate of the Actor\n",
    "    'lr_critic': 3e-3,                  # learning rate of the Critic\n",
    "    'seed': 42,                         # Seed to generate random numbers\n",
    "    'actor_units': [512, 256],          # Number of nodes in hidden layers of the Actor\n",
    "    'critic_units': [512, 256],         # Number of nodes in hidden layers of the Critic\n",
    "    'weight_decay': 0,                  # L2 weight decay\n",
    "    'noise_theta': 0.15,                # Theta of Ornstein-Uhlenbeck process\n",
    "    'noise_sigma': 0.01,                # Sigma of Ornstein-Uhlenbeck process\n",
    "}\n",
    "\n",
    "\n",
    "memory = ReplayBuffer(action_size, params['buffer_size'],\n",
    "                      params['batch_size'], params['seed'], torch_device)\n",
    "\n",
    "\n",
    "def train(n_episodes=150, max_t=1500, agents=None, filenames=None,\n",
    "          benchmark_score=0.5, rolling_n_episodes=10):\n",
    "    \"\"\"Deep Q-Learning.\n",
    "    \n",
    "    Params\n",
    "    ======\n",
    "        n_episodes (int): maximum number of training episodes\n",
    "        max_t (int): maximum number of timesteps per episode (should be over 1000)\n",
    "        agents (obj): training agent instances\n",
    "        filenames (list): string of filenames to store weights of actor and critic\n",
    "        benchmark_score (int): the score of agent should be over this score\n",
    "        rolling_n_episodes (int): the score is checked whenever number of tries reachs to this\n",
    "    \"\"\"\n",
    "    start_time = time.time()\n",
    "        \n",
    "    all_scores = []                                   # list containing scores from each episode for all agents\n",
    "    scores_window = deque(maxlen=rolling_n_episodes)  # last rolling_n_episodes scores\n",
    "    avg_checked = False\n",
    "    max_score = -1\n",
    "    \n",
    "    for i_episode in range(1, n_episodes + 1):\n",
    "        env_info = env.reset(train_mode=True)[brain_name]  # reset the environment\n",
    "        states = env_info.vector_observations              # get the current state (for each agent)\n",
    "        scores = np.zeros(len(agents))                     # initialize the score (for each agent)\n",
    "\n",
    "        for agent in agents:                               # Reset agent before starting new episode\n",
    "            agent.reset()\n",
    "\n",
    "        for t in range(max_t):\n",
    "            actions = [agent.act(states[i]) for i, agent in enumerate(agents)]  # select actions\n",
    "            env_info = env.step(actions)[brain_name]       # send the action to the environment\n",
    "            next_states = env_info.vector_observations     # get the next state\n",
    "            rewards = env_info.rewards                     # get the reward\n",
    "            dones = env_info.local_done                    # see if episode has finished\n",
    "\n",
    "            for i, agent in enumerate(agents):\n",
    "                agent.step(states[i], actions[i], rewards[i], next_states[i], dones[i])\n",
    "            \n",
    "            states = next_states                           # roll over the state to next time step\n",
    "            scores += rewards                              # update the score\n",
    "            if np.any(dones):                              # exit loop if episode finished\n",
    "                break\n",
    "\n",
    "        cur_score = np.max(scores)                         # average score of all agents\n",
    "        scores_window.append(cur_score)                    # save most recent score\n",
    "        all_scores.append(cur_score)                       # save all scores\n",
    "        avg_scores_window = np.mean(scores_window)         # get average score of current window\n",
    "\n",
    "        if cur_score > max_score:\n",
    "            max_score = cur_score\n",
    "            if filenames:\n",
    "                for i, agent in enumerate(agents):\n",
    "                    torch.save(agent.actor_local.state_dict(), filenames[0] + str(i) + '.pth')\n",
    "                torch.save(agent.critic_local.state_dict(), filenames[1] + '.pth')\n",
    "\n",
    "        print('\\ri_episode {}\\tavg_scores_window: {:.5f}\\tcurrent_score: {:.5f}'.format(i_episode, avg_scores_window, cur_score), end=\"\")\n",
    "        \n",
    "        if i_episode % rolling_n_episodes == 0:\n",
    "            print('\\ri_episode {}\\tavg_scores_window: {:.5f}\\tcurrent_score: {:.5f}'.format(i_episode, avg_scores_window, cur_score))\n",
    "        \n",
    "        if not avg_checked and avg_scores_window >= benchmark_score:\n",
    "            print('\\nEnvironment solved in {:d} episodes!\\tavg_scores_window: {:.5f}'.format(\n",
    "                  i_episode - rolling_n_episodes, avg_scores_window))\n",
    "            avg_checked = True\n",
    "\n",
    "    return all_scores"
   ]
  },
  {
   "cell_type": "code",
   "execution_count": 18,
   "metadata": {},
   "outputs": [],
   "source": [
    "maddpg_agents = [MADDPGAgent(state_size, action_size, memory, torch_device, params)\n",
    "                 for _ in range(num_agents)]"
   ]
  },
  {
   "cell_type": "code",
   "execution_count": 19,
   "metadata": {},
   "outputs": [
    {
     "name": "stdout",
     "output_type": "stream",
     "text": [
      "i_episode 10\tavg_scores_window: 0.00000\tcurrent_score: 0.00000\n",
      "i_episode 20\tavg_scores_window: 0.01900\tcurrent_score: 0.00000\n",
      "i_episode 30\tavg_scores_window: 0.00000\tcurrent_score: 0.00000\n",
      "i_episode 40\tavg_scores_window: 0.01000\tcurrent_score: 0.00000\n",
      "i_episode 50\tavg_scores_window: 0.02000\tcurrent_score: 0.00000\n",
      "i_episode 60\tavg_scores_window: 0.02800\tcurrent_score: 0.00000\n",
      "i_episode 70\tavg_scores_window: 0.03900\tcurrent_score: 0.00000\n",
      "i_episode 80\tavg_scores_window: 0.06800\tcurrent_score: 0.10000\n",
      "i_episode 90\tavg_scores_window: 0.06800\tcurrent_score: 0.00000\n",
      "i_episode 100\tavg_scores_window: 0.07800\tcurrent_score: 0.10000\n",
      "i_episode 110\tavg_scores_window: 0.08000\tcurrent_score: 0.10000\n",
      "i_episode 120\tavg_scores_window: 0.12000\tcurrent_score: 0.10000\n",
      "i_episode 130\tavg_scores_window: 0.09000\tcurrent_score: 0.20000\n",
      "i_episode 140\tavg_scores_window: 0.11800\tcurrent_score: 0.00000\n",
      "i_episode 150\tavg_scores_window: 0.31900\tcurrent_score: 1.00000\n",
      "i_episode 156\tavg_scores_window: 0.55900\tcurrent_score: 2.60000\n",
      "Environment solved in 146 episodes!\tavg_scores_window: 0.55900\n",
      "i_episode 160\tavg_scores_window: 0.62000\tcurrent_score: 0.10000\n",
      "i_episode 170\tavg_scores_window: 0.39800\tcurrent_score: 0.20000\n",
      "i_episode 180\tavg_scores_window: 0.47000\tcurrent_score: 0.20000\n",
      "i_episode 190\tavg_scores_window: 0.47900\tcurrent_score: 0.19000\n",
      "i_episode 200\tavg_scores_window: 1.03900\tcurrent_score: 1.10000\n"
     ]
    }
   ],
   "source": [
    "rundates= datetime.datetime.now().strftime('%Y%m%d_%H%M')\n",
    "rolling_n_episodes = 10     # Score is checked whenever number of tries reachs to this.\n",
    "benchmark_score = 0.5      # min score of agent \n",
    "maddpg_scores = train(200, 1500, maddpg_agents, ['actor_model', 'critic_model'],\n",
    "                      benchmark_score, rolling_n_episodes)"
   ]
  },
  {
   "cell_type": "code",
   "execution_count": 20,
   "metadata": {
    "scrolled": true
   },
   "outputs": [
    {
     "data": {
      "image/png": "[encoded data removed]",
      "text/plain": [
       "<matplotlib.figure.Figure at 0x7fa1fc1c6828>"
      ]
     },
     "metadata": {
      "needs_background": "light"
     },
     "output_type": "display_data"
    },
    {
     "data": {
      "text/plain": [
       "<matplotlib.figure.Figure at 0x7fa1f0dd6e10>"
      ]
     },
     "metadata": {},
     "output_type": "display_data"
    }
   ],
   "source": [
    "fig = plt.figure()\n",
    "ax = fig.add_subplot(111)\n",
    "plt.plot(np.arange(len(maddpg_scores)), maddpg_scores)\n",
    "maddpg_avg = pd.Series(maddpg_scores).rolling(rolling_n_episodes).mean()\n",
    "plt.plot(np.arange(len(maddpg_avg)), maddpg_avg)\n",
    "plt.ylabel('Score')\n",
    "plt.xlabel('Episode')\n",
    "plt.show()\n",
    "plt.savefig(\"results.png\")"
   ]
  }
 ],
 "metadata": {
  "kernelspec": {
   "display_name": "Python 3",
   "language": "python",
   "name": "python3"
  },
  "language_info": {
   "codemirror_mode": {
    "name": "ipython",
    "version": 3
   },
   "file_extension": ".py",
   "mimetype": "text/x-python",
   "name": "python",
   "nbconvert_exporter": "python",
   "pygments_lexer": "ipython3",
   "version": "3.6.3"
  }
 },
 "nbformat": 4,
 "nbformat_minor": 2
}
